{
 "cells": [
  {
   "cell_type": "code",
   "execution_count": 4,
   "id": "3a42ed9c-7faa-46b0-9dfb-763a082503e5",
   "metadata": {},
   "outputs": [
    {
     "name": "stdout",
     "output_type": "stream",
     "text": [
      "Requirement already satisfied: scikit-learn in c:\\users\\shahe\\appdata\\local\\programs\\python\\python312\\lib\\site-packages (1.4.2)\n",
      "Requirement already satisfied: numpy>=1.19.5 in c:\\users\\shahe\\appdata\\local\\programs\\python\\python312\\lib\\site-packages (from scikit-learn) (1.26.4)\n",
      "Requirement already satisfied: scipy>=1.6.0 in c:\\users\\shahe\\appdata\\local\\programs\\python\\python312\\lib\\site-packages (from scikit-learn) (1.13.0)\n",
      "Requirement already satisfied: joblib>=1.2.0 in c:\\users\\shahe\\appdata\\local\\programs\\python\\python312\\lib\\site-packages (from scikit-learn) (1.4.2)\n",
      "Requirement already satisfied: threadpoolctl>=2.0.0 in c:\\users\\shahe\\appdata\\local\\programs\\python\\python312\\lib\\site-packages (from scikit-learn) (3.5.0)\n",
      "Note: you may need to restart the kernel to use updated packages.\n"
     ]
    }
   ],
   "source": [
    "pip install scikit-learn"
   ]
  },
  {
   "cell_type": "code",
   "execution_count": null,
   "id": "0c8fd9d3-ce3e-4a26-bec2-f5d19dab4bc7",
   "metadata": {},
   "outputs": [],
   "source": [
    "import pandas as pd\n",
    "import numpy as np\n",
    "from sklearn import svm\n",
    "from sklearn.model_selection import train_test_split\n",
    "from sklearn.metrics import accuracy_score\n",
    "from sklearn.preprocessing import StandardScaler\n",
    "import warnings\n",
    "warnings.filterwarnings(\"ignore\")"
   ]
  },
  {
   "cell_type": "code",
   "execution_count": null,
   "id": "ab0c7d0d-dc7d-4db7-a130-9182eb267a7e",
   "metadata": {},
   "outputs": [],
   "source": [
    "df=pd.read_csv('diabetes.csv')"
   ]
  },
  {
   "cell_type": "code",
   "execution_count": null,
   "id": "3afb24b7-09cc-4393-9c5e-6191f76b3c40",
   "metadata": {},
   "outputs": [],
   "source": [
    "df.head(5)"
   ]
  },
  {
   "cell_type": "code",
   "execution_count": null,
   "id": "5673d72a-feb5-4144-9413-a00ca7462e95",
   "metadata": {},
   "outputs": [],
   "source": [
    "df.shape"
   ]
  },
  {
   "cell_type": "code",
   "execution_count": null,
   "id": "219ed728-7779-48ba-b0b4-63d70440b81b",
   "metadata": {},
   "outputs": [],
   "source": [
    "df.describe()\n"
   ]
  },
  {
   "cell_type": "code",
   "execution_count": null,
   "id": "fd068613-22f1-43ed-a687-0d6bce221d44",
   "metadata": {},
   "outputs": [],
   "source": [
    "df['Outcome'].value_counts()"
   ]
  },
  {
   "cell_type": "code",
   "execution_count": null,
   "id": "94516595-e52b-4cf0-b416-792ec94b8e9e",
   "metadata": {},
   "outputs": [],
   "source": [
    "df.groupby('Outcome').mean()"
   ]
  },
  {
   "cell_type": "code",
   "execution_count": null,
   "id": "ab8083ac-4eef-439f-80ae-51b9466e8630",
   "metadata": {},
   "outputs": [],
   "source": [
    "X=df.drop(columns='Outcome',axis=1)\n",
    "y=df['Outcome']"
   ]
  },
  {
   "cell_type": "code",
   "execution_count": null,
   "id": "f55d18b6-0378-4f49-b5d3-3235889a09ad",
   "metadata": {},
   "outputs": [],
   "source": [
    "scaler=StandardScaler()"
   ]
  },
  {
   "cell_type": "code",
   "execution_count": null,
   "id": "331b2258-7740-4232-ad3b-71c7c9733015",
   "metadata": {},
   "outputs": [],
   "source": [
    "X=scaler.fit_transform(X)"
   ]
  },
  {
   "cell_type": "code",
   "execution_count": null,
   "id": "649c2184-22fc-4b66-9690-9a0b2498b333",
   "metadata": {},
   "outputs": [],
   "source": [
    "X_train,X_test,y_train,y_test=train_test_split(X,y,test_size=0.2,stratify=y,random_state=2)"
   ]
  },
  {
   "cell_type": "code",
   "execution_count": null,
   "id": "454b7c0b-ffe3-45c3-8f2f-1bfee7b10145",
   "metadata": {},
   "outputs": [],
   "source": [
    "print(X.shape,X_train.shape,X_test.shape)"
   ]
  },
  {
   "cell_type": "code",
   "execution_count": null,
   "id": "64e6b148-1031-42a7-90c5-1fab28bd51e7",
   "metadata": {},
   "outputs": [],
   "source": [
    "classifier=svm.SVC(kernel='linear')"
   ]
  },
  {
   "cell_type": "code",
   "execution_count": null,
   "id": "8d165d06-9c99-4f52-b08a-e2a46646299a",
   "metadata": {},
   "outputs": [],
   "source": [
    "classifier.fit(X_train,y_train)"
   ]
  },
  {
   "cell_type": "code",
   "execution_count": null,
   "id": "bca62d3b-6600-4a63-a458-d6ac9d0699e0",
   "metadata": {},
   "outputs": [],
   "source": [
    "X_train_prediction=classifier.predict(X_train)"
   ]
  },
  {
   "cell_type": "code",
   "execution_count": null,
   "id": "a718f4fe-d240-4bbf-a055-b1438bfd5034",
   "metadata": {},
   "outputs": [],
   "source": [
    "training_data_accuracy=accuracy_score(X_train_prediction,y_train)"
   ]
  },
  {
   "cell_type": "code",
   "execution_count": null,
   "id": "aac211d4-b01e-42ec-91b7-d578db97c883",
   "metadata": {},
   "outputs": [],
   "source": [
    "print('accuracy  : ',training_data_accuracy)"
   ]
  },
  {
   "cell_type": "code",
   "execution_count": null,
   "id": "0193ceb8-251b-4f0b-8457-ff1752612d0a",
   "metadata": {},
   "outputs": [],
   "source": [
    "X_test_prediction=classifier.predict(X_test)"
   ]
  },
  {
   "cell_type": "code",
   "execution_count": null,
   "id": "69f58e7f-574c-4ef6-bf49-1aec94205b7b",
   "metadata": {},
   "outputs": [],
   "source": [
    "testing_data_accuracy=accuracy_score(X_test_prediction,y_test)"
   ]
  },
  {
   "cell_type": "code",
   "execution_count": null,
   "id": "b36a0e0e-a302-4095-a811-a75313d21329",
   "metadata": {},
   "outputs": [],
   "source": [
    "print('accuracy  : ',testing_data_accuracy)"
   ]
  },
  {
   "cell_type": "code",
   "execution_count": null,
   "id": "59714153-4ae2-42ee-8a8c-953e0da2fa0b",
   "metadata": {},
   "outputs": [],
   "source": [
    "input_data=(4,110,92,0,0,37.6,0.191,30)\n",
    "input_array=np.asarray(input_data)\n",
    "reshaped_Data=input_array.reshape(1,-1)\n",
    "data_point=scaler.transform(reshaped_Data)\n",
    "pred=classifier.predict(data_point)\n",
    "print(pred)\n",
    "\n",
    "if(pred[0]==0):\n",
    "    print(\"THE PERSON IS NON-DIABETIC\")\n",
    "\n",
    "else:\n",
    "    print(\"THE PERSON IS DIABETIC\")"
   ]
  },
  {
   "cell_type": "code",
   "execution_count": null,
   "id": "022ffc5a-d349-451a-a7d0-21d1ad62894a",
   "metadata": {},
   "outputs": [],
   "source": []
  }
 ],
 "metadata": {
  "kernelspec": {
   "display_name": "Python 3 (ipykernel)",
   "language": "python",
   "name": "python3"
  },
  "language_info": {
   "codemirror_mode": {
    "name": "ipython",
    "version": 3
   },
   "file_extension": ".py",
   "mimetype": "text/x-python",
   "name": "python",
   "nbconvert_exporter": "python",
   "pygments_lexer": "ipython3",
   "version": "3.12.3"
  }
 },
 "nbformat": 4,
 "nbformat_minor": 5
}
